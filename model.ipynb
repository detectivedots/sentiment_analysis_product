{
 "metadata": {
  "kernelspec": {
   "language": "python",
   "display_name": "Python 3",
   "name": "python3"
  },
  "language_info": {
   "name": "python",
   "version": "3.10.14",
   "mimetype": "text/x-python",
   "codemirror_mode": {
    "name": "ipython",
    "version": 3
   },
   "pygments_lexer": "ipython3",
   "nbconvert_exporter": "python",
   "file_extension": ".py"
  },
  "kaggle": {
   "accelerator": "gpu",
   "dataSources": [
    {
     "sourceId": 800230,
     "sourceType": "datasetVersion",
     "datasetId": 1305
    },
    {
     "sourceId": 9499220,
     "sourceType": "datasetVersion",
     "datasetId": 5780766
    },
    {
     "sourceId": 9499245,
     "sourceType": "datasetVersion",
     "datasetId": 5780787
    },
    {
     "sourceId": 9501315,
     "sourceType": "datasetVersion",
     "datasetId": 5782393
    }
   ],
   "dockerImageVersionId": 30775,
   "isInternetEnabled": true,
   "language": "python",
   "sourceType": "notebook",
   "isGpuEnabled": true
  }
 },
 "nbformat_minor": 4,
 "nbformat": 4,
 "cells": [
  {
   "cell_type": "code",
   "source": [
    "import numpy as np # linear algebra\n",
    "import pandas as pd # data processing, CSV file I/O (e.g. pd.read_csv)\n",
    "import bz2\n",
    "from transformers import T5ForConditionalGeneration, T5Tokenizer, BartForConditionalGeneration, BartTokenizer, pipeline\n",
    "import torch\n",
    "import copy\n",
    "import re\n",
    "import string\n",
    "from sklearn.model_selection import train_test_split\n",
    "from tensorflow.keras.preprocessing.text import Tokenizer, text_to_word_sequence\n",
    "from tensorflow.keras.preprocessing.sequence import pad_sequences\n",
    "from tensorflow.keras.layers import LSTM, Dropout, Dense, Input, Embedding, GRU\n",
    "from tensorflow.keras.models import Sequential, save_model, load_model\n",
    "from keras.callbacks import ModelCheckpoint"
   ],
   "metadata": {
    "_uuid": "8f2839f25d086af736a60e9eeb907d3b93b6e0e5",
    "_cell_guid": "b1076dfc-b9ad-4769-8c92-a6c4dae69d19",
    "execution": {
     "iopub.status.busy": "2024-10-02T11:59:48.989394Z",
     "iopub.execute_input": "2024-10-02T11:59:48.989694Z",
     "iopub.status.idle": "2024-10-02T12:00:07.927930Z",
     "shell.execute_reply.started": "2024-10-02T11:59:48.989661Z",
     "shell.execute_reply": "2024-10-02T12:00:07.927108Z"
    },
    "trusted": true
   },
   "execution_count": 1,
   "outputs": []
  },
  {
   "cell_type": "markdown",
   "source": [
    "# Training"
   ],
   "metadata": {}
  },
  {
   "cell_type": "code",
   "source": [
    "train_df = pd.read_csv(\"/kaggle/working/amazon_reviews_train_cleaned.csv\")\n",
    "test_df = pd.read_csv(\"/kaggle/working/amazon_reviews_test_cleaned.csv\")"
   ],
   "metadata": {
    "execution": {
     "iopub.status.busy": "2024-10-02T12:00:24.420023Z",
     "iopub.execute_input": "2024-10-02T12:00:24.421243Z",
     "iopub.status.idle": "2024-10-02T12:00:45.529196Z",
     "shell.execute_reply.started": "2024-10-02T12:00:24.421199Z",
     "shell.execute_reply": "2024-10-02T12:00:45.528170Z"
    },
    "trusted": true
   },
   "execution_count": 2,
   "outputs": []
  },
  {
   "cell_type": "code",
   "source": [
    "train_df['label'] = train_df['label'] - 1\n",
    "test_df['label'] = test_df['label'] - 1"
   ],
   "metadata": {
    "execution": {
     "iopub.status.busy": "2024-10-02T12:00:45.531100Z",
     "iopub.execute_input": "2024-10-02T12:00:45.531428Z",
     "iopub.status.idle": "2024-10-02T12:00:45.564901Z",
     "shell.execute_reply.started": "2024-10-02T12:00:45.531393Z",
     "shell.execute_reply": "2024-10-02T12:00:45.563749Z"
    },
    "trusted": true
   },
   "execution_count": 3,
   "outputs": []
  },
  {
   "cell_type": "code",
   "source": [
    "train_df['text'] = train_df['title'] + \" \" + train_df['description']\n",
    "train_df.head()"
   ],
   "metadata": {
    "execution": {
     "iopub.status.busy": "2024-10-02T12:00:45.566316Z",
     "iopub.execute_input": "2024-10-02T12:00:45.567071Z",
     "iopub.status.idle": "2024-10-02T12:00:49.590885Z",
     "shell.execute_reply.started": "2024-10-02T12:00:45.567015Z",
     "shell.execute_reply": "2024-10-02T12:00:49.590009Z"
    },
    "trusted": true
   },
   "execution_count": 4,
   "outputs": [
    {
     "execution_count": 4,
     "output_type": "execute_result",
     "data": {
      "text/plain": "   Unnamed: 0                                       title  \\\n0     3028528                                   thanks lb   \n1     2404118      came for the cello stayed for the oboe   \n2     3534001                         beauty is skin deep   \n3     3390257            wasnt drawn in by the characters   \n4       60541  incorrect diagrams  no scripts on web site   \n\n                                         description  label  \\\n0  the listening sleepers chitlin circuit 15 conn...      1   \n1  i was looking for an allbritten cd of chamber ...      1   \n2  hands down the most stylish toaster out there ...      0   \n3  as others said typical romance mediocre underw...      0   \n4  this is bad news lots of info left out pics in...      0   \n\n                                                text  \n0  thanks lb the listening sleepers chitlin circu...  \n1  came for the cello stayed for the oboe i was l...  \n2  beauty is skin deep hands down the most stylis...  \n3  wasnt drawn in by the characters as others sai...  \n4  incorrect diagrams  no scripts on web site thi...  ",
      "text/html": "<div>\n<style scoped>\n    .dataframe tbody tr th:only-of-type {\n        vertical-align: middle;\n    }\n\n    .dataframe tbody tr th {\n        vertical-align: top;\n    }\n\n    .dataframe thead th {\n        text-align: right;\n    }\n</style>\n<table border=\"1\" class=\"dataframe\">\n  <thead>\n    <tr style=\"text-align: right;\">\n      <th></th>\n      <th>Unnamed: 0</th>\n      <th>title</th>\n      <th>description</th>\n      <th>label</th>\n      <th>text</th>\n    </tr>\n  </thead>\n  <tbody>\n    <tr>\n      <th>0</th>\n      <td>3028528</td>\n      <td>thanks lb</td>\n      <td>the listening sleepers chitlin circuit 15 conn...</td>\n      <td>1</td>\n      <td>thanks lb the listening sleepers chitlin circu...</td>\n    </tr>\n    <tr>\n      <th>1</th>\n      <td>2404118</td>\n      <td>came for the cello stayed for the oboe</td>\n      <td>i was looking for an allbritten cd of chamber ...</td>\n      <td>1</td>\n      <td>came for the cello stayed for the oboe i was l...</td>\n    </tr>\n    <tr>\n      <th>2</th>\n      <td>3534001</td>\n      <td>beauty is skin deep</td>\n      <td>hands down the most stylish toaster out there ...</td>\n      <td>0</td>\n      <td>beauty is skin deep hands down the most stylis...</td>\n    </tr>\n    <tr>\n      <th>3</th>\n      <td>3390257</td>\n      <td>wasnt drawn in by the characters</td>\n      <td>as others said typical romance mediocre underw...</td>\n      <td>0</td>\n      <td>wasnt drawn in by the characters as others sai...</td>\n    </tr>\n    <tr>\n      <th>4</th>\n      <td>60541</td>\n      <td>incorrect diagrams  no scripts on web site</td>\n      <td>this is bad news lots of info left out pics in...</td>\n      <td>0</td>\n      <td>incorrect diagrams  no scripts on web site thi...</td>\n    </tr>\n  </tbody>\n</table>\n</div>"
     },
     "metadata": {}
    }
   ]
  },
  {
   "cell_type": "code",
   "source": [
    "test_df['text'] = test_df['title'] + \" \" + test_df['description']\n",
    "test_df.head()"
   ],
   "metadata": {
    "execution": {
     "iopub.status.busy": "2024-10-02T12:00:49.593156Z",
     "iopub.execute_input": "2024-10-02T12:00:49.593464Z",
     "iopub.status.idle": "2024-10-02T12:00:49.962369Z",
     "shell.execute_reply.started": "2024-10-02T12:00:49.593430Z",
     "shell.execute_reply": "2024-10-02T12:00:49.961465Z"
    },
    "trusted": true
   },
   "execution_count": 5,
   "outputs": [
    {
     "execution_count": 5,
     "output_type": "execute_result",
     "data": {
      "text/plain": "   Unnamed: 0                                              title  \\\n0           0                                           great cd   \n1           1  one of the best game music soundtracks  for a ...   \n2           2                       batteries died within a year   \n3           3               works fine but maha energy is better   \n4           4                        great for the nonaudiophile   \n\n                                         description  label  \\\n0  my lovely pat has one of the great voices of h...      1   \n1  despite the fact that i have only played a sma...      1   \n2  i bought this charger in jul 2003 and it worke...      0   \n3  check out maha energys website their powerex m...      1   \n4  reviewed quite a bit of the combo players and ...      1   \n\n                                                text  \n0  great cd my lovely pat has one of the great vo...  \n1  one of the best game music soundtracks  for a ...  \n2  batteries died within a year i bought this cha...  \n3  works fine but maha energy is better check out...  \n4  great for the nonaudiophile reviewed quite a b...  ",
      "text/html": "<div>\n<style scoped>\n    .dataframe tbody tr th:only-of-type {\n        vertical-align: middle;\n    }\n\n    .dataframe tbody tr th {\n        vertical-align: top;\n    }\n\n    .dataframe thead th {\n        text-align: right;\n    }\n</style>\n<table border=\"1\" class=\"dataframe\">\n  <thead>\n    <tr style=\"text-align: right;\">\n      <th></th>\n      <th>Unnamed: 0</th>\n      <th>title</th>\n      <th>description</th>\n      <th>label</th>\n      <th>text</th>\n    </tr>\n  </thead>\n  <tbody>\n    <tr>\n      <th>0</th>\n      <td>0</td>\n      <td>great cd</td>\n      <td>my lovely pat has one of the great voices of h...</td>\n      <td>1</td>\n      <td>great cd my lovely pat has one of the great vo...</td>\n    </tr>\n    <tr>\n      <th>1</th>\n      <td>1</td>\n      <td>one of the best game music soundtracks  for a ...</td>\n      <td>despite the fact that i have only played a sma...</td>\n      <td>1</td>\n      <td>one of the best game music soundtracks  for a ...</td>\n    </tr>\n    <tr>\n      <th>2</th>\n      <td>2</td>\n      <td>batteries died within a year</td>\n      <td>i bought this charger in jul 2003 and it worke...</td>\n      <td>0</td>\n      <td>batteries died within a year i bought this cha...</td>\n    </tr>\n    <tr>\n      <th>3</th>\n      <td>3</td>\n      <td>works fine but maha energy is better</td>\n      <td>check out maha energys website their powerex m...</td>\n      <td>1</td>\n      <td>works fine but maha energy is better check out...</td>\n    </tr>\n    <tr>\n      <th>4</th>\n      <td>4</td>\n      <td>great for the nonaudiophile</td>\n      <td>reviewed quite a bit of the combo players and ...</td>\n      <td>1</td>\n      <td>great for the nonaudiophile reviewed quite a b...</td>\n    </tr>\n  </tbody>\n</table>\n</div>"
     },
     "metadata": {}
    }
   ]
  },
  {
   "cell_type": "code",
   "source": [
    "train_df.drop([\"Unnamed: 0\"], axis=1, inplace=True)\n",
    "train_df.drop(['title', 'description'], axis=1, inplace=True)"
   ],
   "metadata": {
    "execution": {
     "iopub.status.busy": "2024-10-02T12:00:49.963668Z",
     "iopub.execute_input": "2024-10-02T12:00:49.964090Z",
     "iopub.status.idle": "2024-10-02T12:00:50.549593Z",
     "shell.execute_reply.started": "2024-10-02T12:00:49.964045Z",
     "shell.execute_reply": "2024-10-02T12:00:50.548572Z"
    },
    "trusted": true
   },
   "execution_count": 6,
   "outputs": []
  },
  {
   "cell_type": "code",
   "source": [
    "test_df.drop([\"Unnamed: 0\"], axis=1, inplace=True)\n",
    "test_df.drop(['title', 'description'], axis=1, inplace=True)"
   ],
   "metadata": {
    "execution": {
     "iopub.status.busy": "2024-10-02T12:00:50.550823Z",
     "iopub.execute_input": "2024-10-02T12:00:50.551151Z",
     "iopub.status.idle": "2024-10-02T12:00:50.617553Z",
     "shell.execute_reply.started": "2024-10-02T12:00:50.551118Z",
     "shell.execute_reply": "2024-10-02T12:00:50.616726Z"
    },
    "trusted": true
   },
   "execution_count": 7,
   "outputs": []
  },
  {
   "cell_type": "code",
   "source": [
    "train_df = train_df.dropna()\n",
    "test_df = test_df.dropna()"
   ],
   "metadata": {
    "execution": {
     "iopub.status.busy": "2024-10-02T12:00:50.618693Z",
     "iopub.execute_input": "2024-10-02T12:00:50.619017Z",
     "iopub.status.idle": "2024-10-02T12:00:51.435425Z",
     "shell.execute_reply.started": "2024-10-02T12:00:50.618983Z",
     "shell.execute_reply": "2024-10-02T12:00:51.434322Z"
    },
    "trusted": true
   },
   "execution_count": 8,
   "outputs": []
  },
  {
   "cell_type": "code",
   "source": [
    "train_df = train_df.sample(frac=1)"
   ],
   "metadata": {
    "execution": {
     "iopub.status.busy": "2024-10-02T12:00:51.436677Z",
     "iopub.execute_input": "2024-10-02T12:00:51.437003Z",
     "iopub.status.idle": "2024-10-02T12:00:52.183116Z",
     "shell.execute_reply.started": "2024-10-02T12:00:51.436969Z",
     "shell.execute_reply": "2024-10-02T12:00:52.182280Z"
    },
    "trusted": true
   },
   "execution_count": 9,
   "outputs": []
  },
  {
   "cell_type": "code",
   "source": [
    "X, y = train_df.drop([\"label\"], axis=1), train_df[\"label\"]"
   ],
   "metadata": {
    "execution": {
     "iopub.status.busy": "2024-10-02T12:00:52.184190Z",
     "iopub.execute_input": "2024-10-02T12:00:52.184510Z",
     "iopub.status.idle": "2024-10-02T12:00:52.372767Z",
     "shell.execute_reply.started": "2024-10-02T12:00:52.184476Z",
     "shell.execute_reply": "2024-10-02T12:00:52.371722Z"
    },
    "trusted": true
   },
   "execution_count": 10,
   "outputs": []
  },
  {
   "cell_type": "code",
   "source": [
    "X_test, y_test = test_df.drop([\"label\"], axis=1), test_df[\"label\"]"
   ],
   "metadata": {
    "execution": {
     "iopub.status.busy": "2024-10-02T12:00:52.375777Z",
     "iopub.execute_input": "2024-10-02T12:00:52.376120Z",
     "iopub.status.idle": "2024-10-02T12:00:52.396033Z",
     "shell.execute_reply.started": "2024-10-02T12:00:52.376086Z",
     "shell.execute_reply": "2024-10-02T12:00:52.395061Z"
    },
    "trusted": true
   },
   "execution_count": 11,
   "outputs": []
  },
  {
   "cell_type": "code",
   "source": [
    "X.head()"
   ],
   "metadata": {
    "execution": {
     "iopub.status.busy": "2024-10-02T12:00:52.397124Z",
     "iopub.execute_input": "2024-10-02T12:00:52.397421Z",
     "iopub.status.idle": "2024-10-02T12:00:52.411907Z",
     "shell.execute_reply.started": "2024-10-02T12:00:52.397388Z",
     "shell.execute_reply": "2024-10-02T12:00:52.411050Z"
    },
    "trusted": true
   },
   "execution_count": 12,
   "outputs": [
    {
     "execution_count": 12,
     "output_type": "execute_result",
     "data": {
      "text/plain": "                                                      text\n2894765  a powerful book chuck colsons life is one of h...\n1246880  warning warranty does not cover physical defec...\n3431345  bible study i have a hard copy of the bible an...\n2278068  what i needed not sure why this says chromed t...\n273436   percolator the first time i tried it it leaked...",
      "text/html": "<div>\n<style scoped>\n    .dataframe tbody tr th:only-of-type {\n        vertical-align: middle;\n    }\n\n    .dataframe tbody tr th {\n        vertical-align: top;\n    }\n\n    .dataframe thead th {\n        text-align: right;\n    }\n</style>\n<table border=\"1\" class=\"dataframe\">\n  <thead>\n    <tr style=\"text-align: right;\">\n      <th></th>\n      <th>text</th>\n    </tr>\n  </thead>\n  <tbody>\n    <tr>\n      <th>2894765</th>\n      <td>a powerful book chuck colsons life is one of h...</td>\n    </tr>\n    <tr>\n      <th>1246880</th>\n      <td>warning warranty does not cover physical defec...</td>\n    </tr>\n    <tr>\n      <th>3431345</th>\n      <td>bible study i have a hard copy of the bible an...</td>\n    </tr>\n    <tr>\n      <th>2278068</th>\n      <td>what i needed not sure why this says chromed t...</td>\n    </tr>\n    <tr>\n      <th>273436</th>\n      <td>percolator the first time i tried it it leaked...</td>\n    </tr>\n  </tbody>\n</table>\n</div>"
     },
     "metadata": {}
    }
   ]
  },
  {
   "cell_type": "code",
   "source": [
    "X_train, X_val, y_train, y_val = train_test_split(X, y, test_size=0.2, random_state=42)"
   ],
   "metadata": {
    "execution": {
     "iopub.status.busy": "2024-10-02T12:00:52.413131Z",
     "iopub.execute_input": "2024-10-02T12:00:52.413462Z",
     "iopub.status.idle": "2024-10-02T12:00:53.089244Z",
     "shell.execute_reply.started": "2024-10-02T12:00:52.413420Z",
     "shell.execute_reply": "2024-10-02T12:00:53.088146Z"
    },
    "trusted": true
   },
   "execution_count": 13,
   "outputs": []
  },
  {
   "cell_type": "code",
   "source": [
    "X_train.shape"
   ],
   "metadata": {
    "execution": {
     "iopub.status.busy": "2024-10-02T12:00:53.090485Z",
     "iopub.execute_input": "2024-10-02T12:00:53.090811Z",
     "iopub.status.idle": "2024-10-02T12:00:53.096812Z",
     "shell.execute_reply.started": "2024-10-02T12:00:53.090776Z",
     "shell.execute_reply": "2024-10-02T12:00:53.095900Z"
    },
    "trusted": true
   },
   "execution_count": 14,
   "outputs": [
    {
     "execution_count": 14,
     "output_type": "execute_result",
     "data": {
      "text/plain": "(2890438, 1)"
     },
     "metadata": {}
    }
   ]
  },
  {
   "cell_type": "code",
   "source": [
    "y_train.shape"
   ],
   "metadata": {
    "execution": {
     "iopub.status.busy": "2024-10-02T12:00:53.098009Z",
     "iopub.execute_input": "2024-10-02T12:00:53.098354Z",
     "iopub.status.idle": "2024-10-02T12:00:53.108283Z",
     "shell.execute_reply.started": "2024-10-02T12:00:53.098320Z",
     "shell.execute_reply": "2024-10-02T12:00:53.107395Z"
    },
    "trusted": true
   },
   "execution_count": 15,
   "outputs": [
    {
     "execution_count": 15,
     "output_type": "execute_result",
     "data": {
      "text/plain": "(2890438,)"
     },
     "metadata": {}
    }
   ]
  },
  {
   "cell_type": "code",
   "source": [
    "y_train = y_train.to_numpy()\n",
    "y_val = y_val.to_numpy()\n",
    "y_test = y_test.to_numpy()\n"
   ],
   "metadata": {
    "execution": {
     "iopub.status.busy": "2024-10-02T12:00:53.109370Z",
     "iopub.execute_input": "2024-10-02T12:00:53.109654Z",
     "iopub.status.idle": "2024-10-02T12:00:53.119244Z",
     "shell.execute_reply.started": "2024-10-02T12:00:53.109611Z",
     "shell.execute_reply": "2024-10-02T12:00:53.118347Z"
    },
    "trusted": true
   },
   "execution_count": 16,
   "outputs": []
  },
  {
   "cell_type": "code",
   "source": [
    "MAX_FEATURES = 200000\n",
    "MAX_LENGTH = 256"
   ],
   "metadata": {
    "execution": {
     "iopub.status.busy": "2024-10-02T12:00:53.120577Z",
     "iopub.execute_input": "2024-10-02T12:00:53.121049Z",
     "iopub.status.idle": "2024-10-02T12:00:53.129105Z",
     "shell.execute_reply.started": "2024-10-02T12:00:53.121005Z",
     "shell.execute_reply": "2024-10-02T12:00:53.128240Z"
    },
    "trusted": true
   },
   "execution_count": 17,
   "outputs": []
  },
  {
   "cell_type": "code",
   "source": [
    "tokenizer = Tokenizer(num_words=MAX_FEATURES)\n",
    "tokenizer.fit_on_texts(X_train[\"text\"])"
   ],
   "metadata": {
    "execution": {
     "iopub.status.busy": "2024-10-02T12:00:55.995474Z",
     "iopub.execute_input": "2024-10-02T12:00:55.996102Z",
     "iopub.status.idle": "2024-10-02T12:04:34.720550Z",
     "shell.execute_reply.started": "2024-10-02T12:00:55.996062Z",
     "shell.execute_reply": "2024-10-02T12:04:34.719654Z"
    },
    "trusted": true
   },
   "execution_count": 18,
   "outputs": []
  },
  {
   "cell_type": "code",
   "source": [
    "X_train = tokenizer.texts_to_sequences(X_train['text'])\n",
    "X_val = tokenizer.texts_to_sequences(X_val['text'])\n",
    "X_test = tokenizer.texts_to_sequences(X_test['text'])"
   ],
   "metadata": {
    "execution": {
     "iopub.status.busy": "2024-10-02T12:04:34.722287Z",
     "iopub.execute_input": "2024-10-02T12:04:34.722630Z",
     "iopub.status.idle": "2024-10-02T12:08:37.017220Z",
     "shell.execute_reply.started": "2024-10-02T12:04:34.722594Z",
     "shell.execute_reply": "2024-10-02T12:08:37.016185Z"
    },
    "trusted": true
   },
   "execution_count": 19,
   "outputs": []
  },
  {
   "cell_type": "code",
   "source": [
    "X_train = pad_sequences(X_train, maxlen=MAX_LENGTH, padding='post', truncating='post')\n",
    "X_val = pad_sequences(X_val, maxlen=MAX_LENGTH, padding='post', truncating='post')\n",
    "X_test = pad_sequences(X_test, maxlen=MAX_LENGTH, padding='post', truncating='post')"
   ],
   "metadata": {
    "execution": {
     "iopub.status.busy": "2024-10-02T12:08:37.018603Z",
     "iopub.execute_input": "2024-10-02T12:08:37.019312Z",
     "iopub.status.idle": "2024-10-02T12:09:13.658059Z",
     "shell.execute_reply.started": "2024-10-02T12:08:37.019262Z",
     "shell.execute_reply": "2024-10-02T12:09:13.657194Z"
    },
    "trusted": true
   },
   "execution_count": 20,
   "outputs": []
  },
  {
   "cell_type": "code",
   "source": [
    "X_train[250]"
   ],
   "metadata": {
    "execution": {
     "iopub.status.busy": "2024-10-02T12:09:13.660221Z",
     "iopub.execute_input": "2024-10-02T12:09:13.660559Z",
     "iopub.status.idle": "2024-10-02T12:09:13.667713Z",
     "shell.execute_reply.started": "2024-10-02T12:09:13.660525Z",
     "shell.execute_reply": "2024-10-02T12:09:13.666648Z"
    },
    "trusted": true
   },
   "execution_count": 21,
   "outputs": [
    {
     "execution_count": 21,
     "output_type": "execute_result",
     "data": {
      "text/plain": "array([2077, 6076,  259,    8,   19,   13,   64,   28,   34,    4,  683,\n         51,   81,   15,   58,   50,   26,  464,   10,    1,   19,   27,\n       2845,  873,   48,   79,    7,    0,    0,    0,    0,    0,    0,\n          0,    0,    0,    0,    0,    0,    0,    0,    0,    0,    0,\n          0,    0,    0,    0,    0,    0,    0,    0,    0,    0,    0,\n          0,    0,    0,    0,    0,    0,    0,    0,    0,    0,    0,\n          0,    0,    0,    0,    0,    0,    0,    0,    0,    0,    0,\n          0,    0,    0,    0,    0,    0,    0,    0,    0,    0,    0,\n          0,    0,    0,    0,    0,    0,    0,    0,    0,    0,    0,\n          0,    0,    0,    0,    0,    0,    0,    0,    0,    0,    0,\n          0,    0,    0,    0,    0,    0,    0,    0,    0,    0,    0,\n          0,    0,    0,    0,    0,    0,    0,    0,    0,    0,    0,\n          0,    0,    0,    0,    0,    0,    0,    0,    0,    0,    0,\n          0,    0,    0,    0,    0,    0,    0,    0,    0,    0,    0,\n          0,    0,    0,    0,    0,    0,    0,    0,    0,    0,    0,\n          0,    0,    0,    0,    0,    0,    0,    0,    0,    0,    0,\n          0,    0,    0,    0,    0,    0,    0,    0,    0,    0,    0,\n          0,    0,    0,    0,    0,    0,    0,    0,    0,    0,    0,\n          0,    0,    0,    0,    0,    0,    0,    0,    0,    0,    0,\n          0,    0,    0,    0,    0,    0,    0,    0,    0,    0,    0,\n          0,    0,    0,    0,    0,    0,    0,    0,    0,    0,    0,\n          0,    0,    0,    0,    0,    0,    0,    0,    0,    0,    0,\n          0,    0,    0,    0,    0,    0,    0,    0,    0,    0,    0,\n          0,    0,    0], dtype=int32)"
     },
     "metadata": {}
    }
   ]
  },
  {
   "cell_type": "code",
   "source": [
    "checkpoint_filepath = '/kaggle/working/best_model.keras'\n",
    "checkpoint = ModelCheckpoint(\n",
    "    filepath=checkpoint_filepath,   \n",
    "    monitor='val_loss',             \n",
    "    save_best_only=True,            \n",
    "    mode='min',                     \n",
    "    verbose=1                       \n",
    ")\n"
   ],
   "metadata": {
    "execution": {
     "iopub.status.busy": "2024-10-02T12:09:13.669112Z",
     "iopub.execute_input": "2024-10-02T12:09:13.669467Z",
     "iopub.status.idle": "2024-10-02T12:09:13.678695Z",
     "shell.execute_reply.started": "2024-10-02T12:09:13.669425Z",
     "shell.execute_reply": "2024-10-02T12:09:13.677904Z"
    },
    "trusted": true
   },
   "execution_count": 22,
   "outputs": []
  },
  {
   "cell_type": "code",
   "source": [
    "model = Sequential([\n",
    "    Input(shape=(MAX_LENGTH,)),\n",
    "    Embedding(MAX_FEATURES, 128),\n",
    "    GRU(128, return_sequences=True, recurrent_activation='sigmoid'),\n",
    "    GRU(128, recurrent_activation='sigmoid'),\n",
    "    Dense(64, activation='relu'),\n",
    "    Dropout(0.3),\n",
    "    Dense(32, activation='relu'),\n",
    "    Dense(1, activation='sigmoid')\n",
    "])"
   ],
   "metadata": {
    "execution": {
     "iopub.status.busy": "2024-10-02T12:09:13.679760Z",
     "iopub.execute_input": "2024-10-02T12:09:13.680073Z",
     "iopub.status.idle": "2024-10-02T12:09:14.528216Z",
     "shell.execute_reply.started": "2024-10-02T12:09:13.680041Z",
     "shell.execute_reply": "2024-10-02T12:09:14.527378Z"
    },
    "trusted": true
   },
   "execution_count": 23,
   "outputs": []
  },
  {
   "cell_type": "code",
   "source": [
    "model.compile(\n",
    "        optimizer='adam',\n",
    "        loss='binary_crossentropy',\n",
    "        metrics=['accuracy']\n",
    "    )"
   ],
   "metadata": {
    "execution": {
     "iopub.status.busy": "2024-10-02T12:11:10.770768Z",
     "iopub.execute_input": "2024-10-02T12:11:10.771183Z",
     "iopub.status.idle": "2024-10-02T12:11:10.781849Z",
     "shell.execute_reply.started": "2024-10-02T12:11:10.771144Z",
     "shell.execute_reply": "2024-10-02T12:11:10.780918Z"
    },
    "trusted": true
   },
   "execution_count": 26,
   "outputs": []
  },
  {
   "cell_type": "code",
   "source": [
    "model.fit(X_train, y_train, batch_size=128, epochs = 5, validation_data=(X_val, y_val), callbacks=[checkpoint])"
   ],
   "metadata": {
    "execution": {
     "iopub.status.busy": "2024-10-02T12:11:11.807026Z",
     "iopub.execute_input": "2024-10-02T12:11:11.807967Z",
     "iopub.status.idle": "2024-10-02T13:42:20.772627Z",
     "shell.execute_reply.started": "2024-10-02T12:11:11.807912Z",
     "shell.execute_reply": "2024-10-02T13:42:20.771630Z"
    },
    "trusted": true
   },
   "execution_count": 27,
   "outputs": [
    {
     "name": "stdout",
     "text": "Epoch 1/5\n\u001B[1m22582/22582\u001B[0m \u001B[32m━━━━━━━━━━━━━━━━━━━━\u001B[0m\u001B[37m\u001B[0m \u001B[1m0s\u001B[0m 45ms/step - accuracy: 0.5005 - loss: 0.6932\nEpoch 1: val_loss improved from inf to 0.69315, saving model to /kaggle/working/best_model.keras\n\u001B[1m22582/22582\u001B[0m \u001B[32m━━━━━━━━━━━━━━━━━━━━\u001B[0m\u001B[37m\u001B[0m \u001B[1m1101s\u001B[0m 49ms/step - accuracy: 0.5005 - loss: 0.6932 - val_accuracy: 0.5000 - val_loss: 0.6931\nEpoch 2/5\n\u001B[1m22581/22582\u001B[0m \u001B[32m━━━━━━━━━━━━━━━━━━━\u001B[0m\u001B[37m━\u001B[0m \u001B[1m0s\u001B[0m 45ms/step - accuracy: 0.5000 - loss: 0.6932\nEpoch 2: val_loss did not improve from 0.69315\n\u001B[1m22582/22582\u001B[0m \u001B[32m━━━━━━━━━━━━━━━━━━━━\u001B[0m\u001B[37m\u001B[0m \u001B[1m1091s\u001B[0m 48ms/step - accuracy: 0.5000 - loss: 0.6932 - val_accuracy: 0.5000 - val_loss: 0.6932\nEpoch 3/5\n\u001B[1m22581/22582\u001B[0m \u001B[32m━━━━━━━━━━━━━━━━━━━\u001B[0m\u001B[37m━\u001B[0m \u001B[1m0s\u001B[0m 45ms/step - accuracy: 0.6880 - loss: 0.4753\nEpoch 3: val_loss improved from 0.69315 to 0.14648, saving model to /kaggle/working/best_model.keras\n\u001B[1m22582/22582\u001B[0m \u001B[32m━━━━━━━━━━━━━━━━━━━━\u001B[0m\u001B[37m\u001B[0m \u001B[1m1092s\u001B[0m 48ms/step - accuracy: 0.6880 - loss: 0.4753 - val_accuracy: 0.9486 - val_loss: 0.1465\nEpoch 4/5\n\u001B[1m22581/22582\u001B[0m \u001B[32m━━━━━━━━━━━━━━━━━━━\u001B[0m\u001B[37m━\u001B[0m \u001B[1m0s\u001B[0m 45ms/step - accuracy: 0.9564 - loss: 0.1205\nEpoch 4: val_loss improved from 0.14648 to 0.13462, saving model to /kaggle/working/best_model.keras\n\u001B[1m22582/22582\u001B[0m \u001B[32m━━━━━━━━━━━━━━━━━━━━\u001B[0m\u001B[37m\u001B[0m \u001B[1m1092s\u001B[0m 48ms/step - accuracy: 0.9564 - loss: 0.1205 - val_accuracy: 0.9534 - val_loss: 0.1346\nEpoch 5/5\n\u001B[1m22581/22582\u001B[0m \u001B[32m━━━━━━━━━━━━━━━━━━━\u001B[0m\u001B[37m━\u001B[0m \u001B[1m0s\u001B[0m 45ms/step - accuracy: 0.9675 - loss: 0.0928\nEpoch 5: val_loss did not improve from 0.13462\n\u001B[1m22582/22582\u001B[0m \u001B[32m━━━━━━━━━━━━━━━━━━━━\u001B[0m\u001B[37m\u001B[0m \u001B[1m1090s\u001B[0m 48ms/step - accuracy: 0.9675 - loss: 0.0928 - val_accuracy: 0.9512 - val_loss: 0.1382\n",
     "output_type": "stream"
    },
    {
     "execution_count": 27,
     "output_type": "execute_result",
     "data": {
      "text/plain": "<keras.src.callbacks.history.History at 0x7fa064983160>"
     },
     "metadata": {}
    }
   ]
  },
  {
   "cell_type": "code",
   "source": [
    "model.evaluate(X_test, y_test)"
   ],
   "metadata": {
    "execution": {
     "iopub.status.busy": "2024-10-02T13:42:47.798752Z",
     "iopub.execute_input": "2024-10-02T13:42:47.799602Z",
     "iopub.status.idle": "2024-10-02T13:45:36.312037Z",
     "shell.execute_reply.started": "2024-10-02T13:42:47.799561Z",
     "shell.execute_reply": "2024-10-02T13:45:36.311059Z"
    },
    "trusted": true
   },
   "execution_count": 28,
   "outputs": [
    {
     "name": "stdout",
     "text": "\u001B[1m12491/12491\u001B[0m \u001B[32m━━━━━━━━━━━━━━━━━━━━\u001B[0m\u001B[37m\u001B[0m \u001B[1m168s\u001B[0m 13ms/step - accuracy: 0.9499 - loss: 0.1409\n",
     "output_type": "stream"
    },
    {
     "execution_count": 28,
     "output_type": "execute_result",
     "data": {
      "text/plain": "[0.13810664415359497, 0.951320230960846]"
     },
     "metadata": {}
    }
   ]
  },
  {
   "cell_type": "code",
   "source": [
    "def predict_sentence(sentence):\n",
    "    sentence = preprocess(sentence)\n",
    "    sentence = [sentence]\n",
    "    tokenized_sentence = tokenizer.texts_to_sequences(sentence)\n",
    "    padded_sentence = pad_sequences(tokenized_sentence, maxlen=MAX_LENGTH, padding='post', truncating='post')\n",
    "    pred = model.predict(padded_sentence)[0][0] \n",
    "    if (pred > 0.5):\n",
    "        print(\"Positive\")\n",
    "    else:\n",
    "        print(\"Negative\")"
   ],
   "metadata": {
    "execution": {
     "iopub.status.busy": "2024-10-02T13:53:04.832680Z",
     "iopub.execute_input": "2024-10-02T13:53:04.833454Z",
     "iopub.status.idle": "2024-10-02T13:53:04.839109Z",
     "shell.execute_reply.started": "2024-10-02T13:53:04.833411Z",
     "shell.execute_reply": "2024-10-02T13:53:04.838059Z"
    },
    "trusted": true
   },
   "execution_count": 54,
   "outputs": []
  },
  {
   "cell_type": "code",
   "source": [
    "predict_sentence(\"artifical intelligence\")"
   ],
   "metadata": {
    "execution": {
     "iopub.status.busy": "2024-10-02T14:12:41.698283Z",
     "iopub.execute_input": "2024-10-02T14:12:41.699160Z",
     "iopub.status.idle": "2024-10-02T14:12:41.767786Z",
     "shell.execute_reply.started": "2024-10-02T14:12:41.699119Z",
     "shell.execute_reply": "2024-10-02T14:12:41.766913Z"
    },
    "trusted": true
   },
   "execution_count": 130,
   "outputs": [
    {
     "name": "stdout",
     "text": "\u001B[1m1/1\u001B[0m \u001B[32m━━━━━━━━━━━━━━━━━━━━\u001B[0m\u001B[37m\u001B[0m \u001B[1m0s\u001B[0m 23ms/step\nNegative\n",
     "output_type": "stream"
    }
   ]
  },
  {
   "cell_type": "code",
   "source": [],
   "metadata": {},
   "execution_count": null,
   "outputs": []
  }
 ]
}
